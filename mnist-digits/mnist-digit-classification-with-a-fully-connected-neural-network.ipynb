{
  "nbformat": 4,
  "nbformat_minor": 0,
  "metadata": {
    "colab": {
      "name": "MNIST Digit Classification with a Fully-Connected Neural Network",
      "provenance": [],
      "authorship_tag": "ABX9TyOtUl0jm0CM4G+U6wQaGTlq"
    },
    "kernelspec": {
      "name": "python3",
      "display_name": "Python 3"
    }
  },
  "cells": [
    {
      "cell_type": "markdown",
      "metadata": {
        "id": "aq7MqgGKBfOq"
      },
      "source": [
        "# MNIST Digit Classification with a Fully-Connected Neural Network\n",
        "*By Carlos Santiago Bañón*\n",
        "\n",
        "**Year:** 2020\n",
        "\n",
        "**Technologies:** Python, NumPy, Matplotlib, TensforFlow, Keras\n",
        "\n",
        "**Discipline(s):** Computer Vision, Deep Learning\n",
        "\n",
        "**Keywords:** `classification`, `computer-vision`, `deep-learning`, `fully-connected`, `mnist`, `multi-class-classification`, `neural-network`"
      ]
    },
    {
      "cell_type": "markdown",
      "metadata": {
        "id": "HSmvrCh8CqZq"
      },
      "source": [
        "This notebook presents an MNIST digit classifier built with a fully-connected neural network in TensorFlow and Keras."
      ]
    },
    {
      "cell_type": "markdown",
      "metadata": {
        "id": "Uzlnsvf1DGpk"
      },
      "source": [
        "## 1. Import Statements\n",
        "\n",
        "---\n",
        "\n"
      ]
    },
    {
      "cell_type": "code",
      "metadata": {
        "id": "l8DhknOWDIc4"
      },
      "source": [
        "import numpy as np\n",
        "import matplotlib.pyplot as plt\n",
        "\n",
        "%tensorflow_version 2.x\n",
        "import tensorflow as tf"
      ],
      "execution_count": 1,
      "outputs": []
    },
    {
      "cell_type": "markdown",
      "metadata": {
        "id": "Yuvx7u4qDQ0p"
      },
      "source": [
        "## 2. Data Preprocessing\n",
        "\n",
        "---\n",
        "\n"
      ]
    },
    {
      "cell_type": "markdown",
      "metadata": {
        "id": "qI70NJ8SN4An"
      },
      "source": [
        "The first step is to preprocess our data. Here, we load the MNIST digit dataset from the Keras datasets library, split it into training and test sets, reshape the matrices, and encode the labels categorically."
      ]
    },
    {
      "cell_type": "code",
      "metadata": {
        "id": "IsaUq1mDDVLT"
      },
      "source": [
        "# Load the MNIST dataset.\n",
        "mnist = tf.keras.datasets.mnist\n",
        "train_data, test_data = mnist.load_data()"
      ],
      "execution_count": 2,
      "outputs": []
    },
    {
      "cell_type": "code",
      "metadata": {
        "id": "nWuEpda6EBMN"
      },
      "source": [
        "# Divide the data into features and labels.\n",
        "train_images, train_labels = train_data\n",
        "test_images, test_labels = test_data"
      ],
      "execution_count": 3,
      "outputs": []
    },
    {
      "cell_type": "code",
      "metadata": {
        "id": "wrAabZnyDinP"
      },
      "source": [
        "# Reshape and normalize the images.\n",
        "X_train = train_images.reshape((60000, 784))\n",
        "X_train = X_train.astype('float32') / 255\n",
        "X_test = test_images.reshape((10000, 784))\n",
        "X_test = X_test.astype('float32') / 255"
      ],
      "execution_count": 4,
      "outputs": []
    },
    {
      "cell_type": "code",
      "metadata": {
        "id": "iHUWJlyBE1P0"
      },
      "source": [
        "# Reshape the labels and encode them categorically.\n",
        "y_train = tf.keras.utils.to_categorical(train_labels)\n",
        "y_test = tf.keras.utils.to_categorical(test_labels)"
      ],
      "execution_count": 5,
      "outputs": []
    },
    {
      "cell_type": "markdown",
      "metadata": {
        "id": "FVEOuuLPOJVH"
      },
      "source": [
        "Further, the following are the shapes of each matrix, as well as a visualization of a random MNIST digit."
      ]
    },
    {
      "cell_type": "code",
      "metadata": {
        "id": "9PpPi0qpNI_L",
        "outputId": "644ecbd9-6925-47fa-a5d1-33f68b2d2d96",
        "colab": {
          "base_uri": "https://localhost:8080/"
        }
      },
      "source": [
        "# Show the shapes of the data.\n",
        "print(\"Training Images:\", X_train.shape)\n",
        "print(\"Testing Images:\", X_test.shape)\n",
        "print(\"Training Labels:\", y_train.shape)\n",
        "print(\"Test Labels:\", y_test.shape)"
      ],
      "execution_count": 6,
      "outputs": [
        {
          "output_type": "stream",
          "text": [
            "Training Images: (60000, 784)\n",
            "Testing Images: (10000, 784)\n",
            "Training Labels: (60000, 10)\n",
            "Test Labels: (10000, 10)\n"
          ],
          "name": "stdout"
        }
      ]
    },
    {
      "cell_type": "code",
      "metadata": {
        "id": "mSKjBaeNNc1m",
        "outputId": "6020122d-3261-412f-ed41-2c3449cd7c64",
        "colab": {
          "base_uri": "https://localhost:8080/",
          "height": 265
        }
      },
      "source": [
        "# Show a sample MNIST digit.\n",
        "plt.imshow(train_images[10])\n",
        "plt.show()"
      ],
      "execution_count": 7,
      "outputs": [
        {
          "output_type": "display_data",
          "data": {
            "image/png": "[encoded data removed]",
            "text/plain": [
              "<Figure size 432x288 with 1 Axes>"
            ]
          },
          "metadata": {
            "tags": [],
            "needs_background": "light"
          }
        }
      ]
    },
    {
      "cell_type": "markdown",
      "metadata": {
        "id": "J5ubfhUsFLR8"
      },
      "source": [
        "## 3. Neural Network\n",
        "\n",
        "---\n",
        "\n"
      ]
    },
    {
      "cell_type": "markdown",
      "metadata": {
        "id": "-gPoq2dRFtrH"
      },
      "source": [
        "### 3.1. Define the Model"
      ]
    },
    {
      "cell_type": "markdown",
      "metadata": {
        "id": "jU5sDVjhOVgF"
      },
      "source": [
        "We then have to define our neural network. Here, we define a sequential model with two fully-connected layers."
      ]
    },
    {
      "cell_type": "code",
      "metadata": {
        "id": "Ri1rSpp3FSDS"
      },
      "source": [
        "# Define the sequential model.\n",
        "model = tf.keras.models.Sequential()"
      ],
      "execution_count": 8,
      "outputs": []
    },
    {
      "cell_type": "code",
      "metadata": {
        "id": "5CNJ9gHWFWQv"
      },
      "source": [
        "# Add two fully-connected layers to the network.\n",
        "model.add(tf.keras.layers.Dense(512, activation='relu', input_shape=(28 * 28,)))\n",
        "model.add(tf.keras.layers.Dense(10, activation='softmax'))"
      ],
      "execution_count": 9,
      "outputs": []
    },
    {
      "cell_type": "code",
      "metadata": {
        "id": "cdMaLgtqFeV6",
        "outputId": "0d151a66-e466-4f9f-c581-6b7f95d11e59",
        "colab": {
          "base_uri": "https://localhost:8080/"
        }
      },
      "source": [
        "# Show the model.\n",
        "model.summary()"
      ],
      "execution_count": 10,
      "outputs": [
        {
          "output_type": "stream",
          "text": [
            "Model: \"sequential\"\n",
            "_________________________________________________________________\n",
            "Layer (type)                 Output Shape              Param #   \n",
            "=================================================================\n",
            "dense (Dense)                (None, 512)               401920    \n",
            "_________________________________________________________________\n",
            "dense_1 (Dense)              (None, 10)                5130      \n",
            "=================================================================\n",
            "Total params: 407,050\n",
            "Trainable params: 407,050\n",
            "Non-trainable params: 0\n",
            "_________________________________________________________________\n"
          ],
          "name": "stdout"
        }
      ]
    },
    {
      "cell_type": "markdown",
      "metadata": {
        "id": "GYactRmuOhCW"
      },
      "source": [
        "Once our model is defined, we can compile it using the Adam optimizer and the categorical cross-entropy loss function."
      ]
    },
    {
      "cell_type": "code",
      "metadata": {
        "id": "57j-R0L4Fmmf"
      },
      "source": [
        "# Compile the model.\n",
        "model.compile(optimizer='adam', loss='categorical_crossentropy', metrics=['accuracy'])"
      ],
      "execution_count": 11,
      "outputs": []
    },
    {
      "cell_type": "markdown",
      "metadata": {
        "id": "hRVabAG8F3IL"
      },
      "source": [
        "### 3.2. Train the Model"
      ]
    },
    {
      "cell_type": "markdown",
      "metadata": {
        "id": "0IuRzsr2Osga"
      },
      "source": [
        "We then train the model on 10 epochs, using a batch size of 256."
      ]
    },
    {
      "cell_type": "code",
      "metadata": {
        "id": "Yl1f9mvZF5Pc",
        "outputId": "c3f72d50-525d-4904-d3f9-4188d3e381f8",
        "colab": {
          "base_uri": "https://localhost:8080/"
        }
      },
      "source": [
        "# Define the parameters.\n",
        "num_epochs = 10\n",
        "batch_size = 256\n",
        "\n",
        "# Train the model.\n",
        "history = model.fit(X_train, \n",
        "                      y_train, \n",
        "                      epochs=num_epochs, \n",
        "                      batch_size=batch_size, \n",
        "                      validation_data=(X_test, y_test))"
      ],
      "execution_count": 12,
      "outputs": [
        {
          "output_type": "stream",
          "text": [
            "Epoch 1/10\n",
            "235/235 [==============================] - 3s 12ms/step - loss: 0.3303 - accuracy: 0.9073 - val_loss: 0.1642 - val_accuracy: 0.9520\n",
            "Epoch 2/10\n",
            "235/235 [==============================] - 3s 11ms/step - loss: 0.1390 - accuracy: 0.9602 - val_loss: 0.1128 - val_accuracy: 0.9656\n",
            "Epoch 3/10\n",
            "235/235 [==============================] - 3s 11ms/step - loss: 0.0939 - accuracy: 0.9735 - val_loss: 0.0883 - val_accuracy: 0.9728\n",
            "Epoch 4/10\n",
            "235/235 [==============================] - 3s 11ms/step - loss: 0.0683 - accuracy: 0.9810 - val_loss: 0.0774 - val_accuracy: 0.9752\n",
            "Epoch 5/10\n",
            "235/235 [==============================] - 3s 12ms/step - loss: 0.0525 - accuracy: 0.9859 - val_loss: 0.0737 - val_accuracy: 0.9775\n",
            "Epoch 6/10\n",
            "235/235 [==============================] - 3s 12ms/step - loss: 0.0401 - accuracy: 0.9890 - val_loss: 0.0700 - val_accuracy: 0.9784\n",
            "Epoch 7/10\n",
            "235/235 [==============================] - 3s 11ms/step - loss: 0.0319 - accuracy: 0.9917 - val_loss: 0.0624 - val_accuracy: 0.9804\n",
            "Epoch 8/10\n",
            "235/235 [==============================] - 3s 12ms/step - loss: 0.0249 - accuracy: 0.9938 - val_loss: 0.0629 - val_accuracy: 0.9797\n",
            "Epoch 9/10\n",
            "235/235 [==============================] - 3s 12ms/step - loss: 0.0197 - accuracy: 0.9953 - val_loss: 0.0644 - val_accuracy: 0.9787\n",
            "Epoch 10/10\n",
            "235/235 [==============================] - 3s 12ms/step - loss: 0.0149 - accuracy: 0.9969 - val_loss: 0.0602 - val_accuracy: 0.9815\n"
          ],
          "name": "stdout"
        }
      ]
    },
    {
      "cell_type": "markdown",
      "metadata": {
        "id": "WhyG0-sPHOAv"
      },
      "source": [
        "### 3.3. Display the Metrics"
      ]
    },
    {
      "cell_type": "markdown",
      "metadata": {
        "id": "1TFadfX_Oyg_"
      },
      "source": [
        "Finally, we display the metrics. We begin by displaying the model's accuracy and loss based on the test set."
      ]
    },
    {
      "cell_type": "code",
      "metadata": {
        "id": "vFoIAPdSYXqh",
        "outputId": "f42e5658-2d61-41cb-e4e7-53395906e28c",
        "colab": {
          "base_uri": "https://localhost:8080/"
        }
      },
      "source": [
        "test_loss, test_accuracy = model.evaluate(X_test, y_test)\n",
        "print('Test Accuracy:', test_accuracy)\n",
        "print('Test Loss:', test_loss)"
      ],
      "execution_count": 13,
      "outputs": [
        {
          "output_type": "stream",
          "text": [
            "313/313 [==============================] - 1s 2ms/step - loss: 0.0602 - accuracy: 0.9815\n",
            "Test Accuracy: 0.9815000295639038\n",
            "Test Loss: 0.06018499284982681\n"
          ],
          "name": "stdout"
        }
      ]
    },
    {
      "cell_type": "markdown",
      "metadata": {
        "id": "k3p2c0-RO2M8"
      },
      "source": [
        "Then, we save the metric values for each epoch to plot the loss and accuracy curves for our model."
      ]
    },
    {
      "cell_type": "code",
      "metadata": {
        "id": "8-OdhC_0KtUx"
      },
      "source": [
        "# Save the metrics.\n",
        "metrics = history.history"
      ],
      "execution_count": 14,
      "outputs": []
    },
    {
      "cell_type": "markdown",
      "metadata": {
        "id": "ZztnSHgjZPDN"
      },
      "source": [
        "Finally, once we have our metric history, we can plot the curves."
      ]
    },
    {
      "cell_type": "code",
      "metadata": {
        "id": "yfosMMiqHQB0"
      },
      "source": [
        "# Save the loss values.\n",
        "training_loss_list = metrics['loss']\n",
        "test_loss_list = metrics['val_loss']"
      ],
      "execution_count": 15,
      "outputs": []
    },
    {
      "cell_type": "code",
      "metadata": {
        "id": "HKAZlyOmHV6f",
        "outputId": "c4dfefb7-c1ba-4afc-9753-2b776f236221",
        "colab": {
          "base_uri": "https://localhost:8080/",
          "height": 295
        }
      },
      "source": [
        "# Plot the training and test loss.\n",
        "x = np.arange(0, num_epochs, 1)\n",
        "plt.title('Training and Test Loss')\n",
        "plt.xlabel('Epoch')\n",
        "plt.ylabel('Loss')\n",
        "plt.plot(x, training_loss_list, label='Training Loss')\n",
        "plt.plot(x, test_loss_list, label='Test Loss')\n",
        "plt.legend()\n",
        "plt.show()"
      ],
      "execution_count": 16,
      "outputs": [
        {
          "output_type": "display_data",
          "data": {
            "image/png": "[encoded data removed]",
            "text/plain": [
              "<Figure size 432x288 with 1 Axes>"
            ]
          },
          "metadata": {
            "tags": [],
            "needs_background": "light"
          }
        }
      ]
    },
    {
      "cell_type": "code",
      "metadata": {
        "id": "RwzIUzuuI0ZP"
      },
      "source": [
        "train_accuracy_list = metrics['accuracy']\n",
        "test_accuracy_list = metrics['val_accuracy']"
      ],
      "execution_count": 17,
      "outputs": []
    },
    {
      "cell_type": "code",
      "metadata": {
        "id": "kHj-j2HpI2Lb",
        "outputId": "a854646a-1ff0-4766-9a5d-6058d2309757",
        "colab": {
          "base_uri": "https://localhost:8080/",
          "height": 295
        }
      },
      "source": [
        "plt.title('Training and Test Accuracy')\n",
        "plt.xlabel('Epoch')\n",
        "plt.ylabel('Accuracy')\n",
        "plt.plot(x, train_accuracy_list, label='Training Accuracy')\n",
        "plt.plot(x, test_accuracy_list, label='Test Accuracy')\n",
        "plt.legend()\n",
        "plt.show()"
      ],
      "execution_count": 18,
      "outputs": [
        {
          "output_type": "display_data",
          "data": {
            "image/png": "[encoded data removed]",
            "text/plain": [
              "<Figure size 432x288 with 1 Axes>"
            ]
          },
          "metadata": {
            "tags": [],
            "needs_background": "light"
          }
        }
      ]
    },
    {
      "cell_type": "markdown",
      "metadata": {
        "id": "x2BDwaUigDgC"
      },
      "source": [
        "## 4. Make a Prediction\n",
        "\n",
        "---\n",
        "\n"
      ]
    },
    {
      "cell_type": "markdown",
      "metadata": {
        "id": "vx34e_AWgLeE"
      },
      "source": [
        "Once our model is trained, we can use it to make predictions. To do this, we first use our test set to predict the classes."
      ]
    },
    {
      "cell_type": "code",
      "metadata": {
        "id": "SylCmq61gTnM"
      },
      "source": [
        "# Make predictions with the trained model.\n",
        "predictions = model.predict(X_test)"
      ],
      "execution_count": 19,
      "outputs": []
    },
    {
      "cell_type": "markdown",
      "metadata": {
        "id": "uMo9sEZpggPq"
      },
      "source": [
        "Finally, we can show a random test image with its corresponding prediction."
      ]
    },
    {
      "cell_type": "code",
      "metadata": {
        "id": "Gc6bx2stgfiY",
        "outputId": "9737b199-0a4d-40f0-c00f-2bf656f650b7",
        "colab": {
          "base_uri": "https://localhost:8080/",
          "height": 265
        }
      },
      "source": [
        "# Choose an index.\n",
        "index = 45\n",
        "\n",
        "# Show an image from the test set.\n",
        "plt.imshow(test_images[index])\n",
        "plt.show()"
      ],
      "execution_count": 20,
      "outputs": [
        {
          "output_type": "display_data",
          "data": {
            "image/png": "[encoded data removed]",
            "text/plain": [
              "<Figure size 432x288 with 1 Axes>"
            ]
          },
          "metadata": {
            "tags": [],
            "needs_background": "light"
          }
        }
      ]
    },
    {
      "cell_type": "code",
      "metadata": {
        "id": "5bmSdfcFgunA",
        "outputId": "f6ddf4a6-3cf4-4615-f080-d443f3b4c043",
        "colab": {
          "base_uri": "https://localhost:8080/"
        }
      },
      "source": [
        "print(\"Prediction:\", np.argmax(predictions[index]))"
      ],
      "execution_count": 21,
      "outputs": [
        {
          "output_type": "stream",
          "text": [
            "Prediction: 5\n"
          ],
          "name": "stdout"
        }
      ]
    }
  ]
}