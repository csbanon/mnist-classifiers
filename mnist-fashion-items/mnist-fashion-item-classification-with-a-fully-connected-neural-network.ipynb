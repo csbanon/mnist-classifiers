{
  "nbformat": 4,
  "nbformat_minor": 0,
  "metadata": {
    "colab": {
      "name": "MNIST Fashion Item Classification with a Fully-Connected Neural Network",
      "provenance": [],
      "authorship_tag": "ABX9TyOuU3tHbqQupgCs2PTnk/gz"
    },
    "kernelspec": {
      "name": "python3",
      "display_name": "Python 3"
    }
  },
  "cells": [
    {
      "cell_type": "markdown",
      "metadata": {
        "id": "aq7MqgGKBfOq"
      },
      "source": [
        "# MNIST Fashion Item Classification with a Fully-Connected Neural Network\n",
        "*By Carlos Santiago Bañón*\n",
        "\n",
        "**Year:** 2020\n",
        "\n",
        "**Technologies:** Python, NumPy, Matplotlib, TensforFlow, Keras\n",
        "\n",
        "**Discipline(s):** Computer Vision, Deep Learning\n",
        "\n",
        "**Keywords:** `classification`, `computer-vision`, `deep-learning`, `fully-connected`, `mnist`, `multi-class-classification`, `neural-network`"
      ]
    },
    {
      "cell_type": "markdown",
      "metadata": {
        "id": "HSmvrCh8CqZq"
      },
      "source": [
        "This notebook presents an MNIST fashion classifier built with a fully-connnected neural network in TensorFlow and Keras."
      ]
    },
    {
      "cell_type": "markdown",
      "metadata": {
        "id": "Uzlnsvf1DGpk"
      },
      "source": [
        "## 1. Import Statements\n",
        "\n",
        "---\n",
        "\n"
      ]
    },
    {
      "cell_type": "code",
      "metadata": {
        "id": "l8DhknOWDIc4"
      },
      "source": [
        "import numpy as np\n",
        "import matplotlib.pyplot as plt\n",
        "\n",
        "%tensorflow_version 2.x\n",
        "import tensorflow as tf"
      ],
      "execution_count": 1,
      "outputs": []
    },
    {
      "cell_type": "markdown",
      "metadata": {
        "id": "Yuvx7u4qDQ0p"
      },
      "source": [
        "## 2. Data Preprocessing\n",
        "\n",
        "---\n",
        "\n"
      ]
    },
    {
      "cell_type": "markdown",
      "metadata": {
        "id": "qI70NJ8SN4An"
      },
      "source": [
        "The first step is to preprocess our data. Here, we load the MNIST fashion dataset from the Keras datasets library, split it into training and test sets, and normalize the matrices."
      ]
    },
    {
      "cell_type": "code",
      "metadata": {
        "id": "IsaUq1mDDVLT"
      },
      "source": [
        "# Load the MNIST dataset.\n",
        "fashion_mnist = tf.keras.datasets.fashion_mnist\n",
        "train_data, test_data = fashion_mnist.load_data()"
      ],
      "execution_count": 2,
      "outputs": []
    },
    {
      "cell_type": "code",
      "metadata": {
        "id": "nWuEpda6EBMN"
      },
      "source": [
        "# Divide the data into features and labels.\n",
        "train_images, y_train = train_data\n",
        "test_images, y_test = test_data"
      ],
      "execution_count": 3,
      "outputs": []
    },
    {
      "cell_type": "code",
      "metadata": {
        "id": "wrAabZnyDinP"
      },
      "source": [
        "# Normalize the images.\n",
        "X_train = train_images.astype('float32') / 255\n",
        "X_test = test_images.astype('float32') / 255"
      ],
      "execution_count": 4,
      "outputs": []
    },
    {
      "cell_type": "markdown",
      "metadata": {
        "id": "FVEOuuLPOJVH"
      },
      "source": [
        "Further, the following are the shapes of each matrix, as well as a visualization of a random MNIST fashion item."
      ]
    },
    {
      "cell_type": "code",
      "metadata": {
        "id": "9PpPi0qpNI_L",
        "outputId": "b773137c-4ac2-4e48-e4e5-c472653359d6",
        "colab": {
          "base_uri": "https://localhost:8080/"
        }
      },
      "source": [
        "# Show the shapes of the data.\n",
        "print(\"Training Images:\", X_train.shape)\n",
        "print(\"Testing Images:\", X_test.shape)\n",
        "print(\"Training Labels:\", y_train.shape)\n",
        "print(\"Test Labels:\", y_test.shape)"
      ],
      "execution_count": 5,
      "outputs": [
        {
          "output_type": "stream",
          "text": [
            "Training Images: (60000, 28, 28)\n",
            "Testing Images: (10000, 28, 28)\n",
            "Training Labels: (60000,)\n",
            "Test Labels: (10000,)\n"
          ],
          "name": "stdout"
        }
      ]
    },
    {
      "cell_type": "code",
      "metadata": {
        "id": "mSKjBaeNNc1m",
        "outputId": "d3da9311-64e2-43ea-f8d0-f9cb63e5af9a",
        "colab": {
          "base_uri": "https://localhost:8080/",
          "height": 265
        }
      },
      "source": [
        "# Show a sample MNIST fashion item.\n",
        "plt.imshow(train_images[10])\n",
        "plt.show()"
      ],
      "execution_count": 6,
      "outputs": [
        {
          "output_type": "display_data",
          "data": {
            "image/png": "[encoded data removed]",
            "text/plain": [
              "<Figure size 432x288 with 1 Axes>"
            ]
          },
          "metadata": {
            "tags": [],
            "needs_background": "light"
          }
        }
      ]
    },
    {
      "cell_type": "markdown",
      "metadata": {
        "id": "rFQyGMGthlsl"
      },
      "source": [
        "Finally, we define the corresponding item names for each class."
      ]
    },
    {
      "cell_type": "code",
      "metadata": {
        "id": "TUBbXxIzhjBt"
      },
      "source": [
        "# Define the class names.\n",
        "class_names = ['T-Shirt/Top', 'Trouser', 'Pullover', 'Dress', 'Coat',\n",
        "               'Sandal', 'Shirt', 'Sneaker', 'Bag', 'Ankle Boot']"
      ],
      "execution_count": 7,
      "outputs": []
    },
    {
      "cell_type": "markdown",
      "metadata": {
        "id": "J5ubfhUsFLR8"
      },
      "source": [
        "## 3. Neural Network\n",
        "\n",
        "---\n",
        "\n"
      ]
    },
    {
      "cell_type": "markdown",
      "metadata": {
        "id": "-gPoq2dRFtrH"
      },
      "source": [
        "### 3.1. Define the Model"
      ]
    },
    {
      "cell_type": "markdown",
      "metadata": {
        "id": "jU5sDVjhOVgF"
      },
      "source": [
        "We then have to define our neural network. Here, we define a sequential model with two fully-connected layers."
      ]
    },
    {
      "cell_type": "code",
      "metadata": {
        "id": "Ri1rSpp3FSDS"
      },
      "source": [
        "# Define the sequential model.\n",
        "model = tf.keras.models.Sequential()"
      ],
      "execution_count": 8,
      "outputs": []
    },
    {
      "cell_type": "code",
      "metadata": {
        "id": "5CNJ9gHWFWQv"
      },
      "source": [
        "# Define the network's layes.\n",
        "model.add(tf.keras.layers.Flatten(input_shape=(28, 28)))\n",
        "model.add(tf.keras.layers.Dense(128, activation='relu'))\n",
        "model.add(tf.keras.layers.Dense(10, activation='softmax'))"
      ],
      "execution_count": 9,
      "outputs": []
    },
    {
      "cell_type": "code",
      "metadata": {
        "id": "cdMaLgtqFeV6",
        "outputId": "9ab3fc14-6230-4fa3-db72-1c0de6e01ea0",
        "colab": {
          "base_uri": "https://localhost:8080/"
        }
      },
      "source": [
        "# Show the model.\n",
        "model.summary()"
      ],
      "execution_count": 10,
      "outputs": [
        {
          "output_type": "stream",
          "text": [
            "Model: \"sequential\"\n",
            "_________________________________________________________________\n",
            "Layer (type)                 Output Shape              Param #   \n",
            "=================================================================\n",
            "flatten (Flatten)            (None, 784)               0         \n",
            "_________________________________________________________________\n",
            "dense (Dense)                (None, 128)               100480    \n",
            "_________________________________________________________________\n",
            "dense_1 (Dense)              (None, 10)                1290      \n",
            "=================================================================\n",
            "Total params: 101,770\n",
            "Trainable params: 101,770\n",
            "Non-trainable params: 0\n",
            "_________________________________________________________________\n"
          ],
          "name": "stdout"
        }
      ]
    },
    {
      "cell_type": "markdown",
      "metadata": {
        "id": "GYactRmuOhCW"
      },
      "source": [
        "Once our model is defined, we can compile it using the Adam optimizer and the categorical cross-entropy loss function."
      ]
    },
    {
      "cell_type": "code",
      "metadata": {
        "id": "57j-R0L4Fmmf"
      },
      "source": [
        "# Compile the model.\n",
        "model.compile(optimizer='adam', loss='sparse_categorical_crossentropy', metrics=['accuracy'])"
      ],
      "execution_count": 11,
      "outputs": []
    },
    {
      "cell_type": "markdown",
      "metadata": {
        "id": "hRVabAG8F3IL"
      },
      "source": [
        "### 3.2. Train the Model"
      ]
    },
    {
      "cell_type": "markdown",
      "metadata": {
        "id": "0IuRzsr2Osga"
      },
      "source": [
        "We then train the model on 20 epochs, using a batch size of 256."
      ]
    },
    {
      "cell_type": "code",
      "metadata": {
        "id": "Yl1f9mvZF5Pc",
        "outputId": "ffe74c17-92d8-4f67-ee54-511d19e9ade3",
        "colab": {
          "base_uri": "https://localhost:8080/"
        }
      },
      "source": [
        "# Define the parameters.\n",
        "num_epochs = 20\n",
        "batch_size = 256\n",
        "\n",
        "# Train the model.\n",
        "history = model.fit(X_train, \n",
        "                      y_train, \n",
        "                      epochs=num_epochs, \n",
        "                      batch_size=batch_size, \n",
        "                      validation_data=(X_test, y_test))"
      ],
      "execution_count": 12,
      "outputs": [
        {
          "output_type": "stream",
          "text": [
            "Epoch 1/20\n",
            "235/235 [==============================] - 1s 6ms/step - loss: 0.6072 - accuracy: 0.7948 - val_loss: 0.5025 - val_accuracy: 0.8260\n",
            "Epoch 2/20\n",
            "235/235 [==============================] - 1s 5ms/step - loss: 0.4238 - accuracy: 0.8528 - val_loss: 0.4457 - val_accuracy: 0.8421\n",
            "Epoch 3/20\n",
            "235/235 [==============================] - 1s 5ms/step - loss: 0.3838 - accuracy: 0.8662 - val_loss: 0.4031 - val_accuracy: 0.8596\n",
            "Epoch 4/20\n",
            "235/235 [==============================] - 1s 5ms/step - loss: 0.3602 - accuracy: 0.8724 - val_loss: 0.3894 - val_accuracy: 0.8611\n",
            "Epoch 5/20\n",
            "235/235 [==============================] - 1s 5ms/step - loss: 0.3435 - accuracy: 0.8773 - val_loss: 0.3842 - val_accuracy: 0.8641\n",
            "Epoch 6/20\n",
            "235/235 [==============================] - 1s 6ms/step - loss: 0.3283 - accuracy: 0.8831 - val_loss: 0.3707 - val_accuracy: 0.8698\n",
            "Epoch 7/20\n",
            "235/235 [==============================] - 1s 6ms/step - loss: 0.3131 - accuracy: 0.8869 - val_loss: 0.3700 - val_accuracy: 0.8685\n",
            "Epoch 8/20\n",
            "235/235 [==============================] - 1s 6ms/step - loss: 0.2983 - accuracy: 0.8923 - val_loss: 0.3590 - val_accuracy: 0.8705\n",
            "Epoch 9/20\n",
            "235/235 [==============================] - 1s 6ms/step - loss: 0.2930 - accuracy: 0.8944 - val_loss: 0.3710 - val_accuracy: 0.8692\n",
            "Epoch 10/20\n",
            "235/235 [==============================] - 1s 5ms/step - loss: 0.2839 - accuracy: 0.8965 - val_loss: 0.3467 - val_accuracy: 0.8750\n",
            "Epoch 11/20\n",
            "235/235 [==============================] - 1s 6ms/step - loss: 0.2738 - accuracy: 0.9010 - val_loss: 0.3459 - val_accuracy: 0.8774\n",
            "Epoch 12/20\n",
            "235/235 [==============================] - 1s 5ms/step - loss: 0.2663 - accuracy: 0.9039 - val_loss: 0.3310 - val_accuracy: 0.8808\n",
            "Epoch 13/20\n",
            "235/235 [==============================] - 1s 5ms/step - loss: 0.2619 - accuracy: 0.9048 - val_loss: 0.3343 - val_accuracy: 0.8820\n",
            "Epoch 14/20\n",
            "235/235 [==============================] - 1s 6ms/step - loss: 0.2534 - accuracy: 0.9085 - val_loss: 0.3355 - val_accuracy: 0.8820\n",
            "Epoch 15/20\n",
            "235/235 [==============================] - 1s 5ms/step - loss: 0.2483 - accuracy: 0.9102 - val_loss: 0.3391 - val_accuracy: 0.8796\n",
            "Epoch 16/20\n",
            "235/235 [==============================] - 1s 5ms/step - loss: 0.2433 - accuracy: 0.9112 - val_loss: 0.3331 - val_accuracy: 0.8795\n",
            "Epoch 17/20\n",
            "235/235 [==============================] - 1s 5ms/step - loss: 0.2377 - accuracy: 0.9133 - val_loss: 0.3255 - val_accuracy: 0.8859\n",
            "Epoch 18/20\n",
            "235/235 [==============================] - 1s 5ms/step - loss: 0.2326 - accuracy: 0.9156 - val_loss: 0.3522 - val_accuracy: 0.8738\n",
            "Epoch 19/20\n",
            "235/235 [==============================] - 1s 5ms/step - loss: 0.2294 - accuracy: 0.9162 - val_loss: 0.3298 - val_accuracy: 0.8852\n",
            "Epoch 20/20\n",
            "235/235 [==============================] - 1s 5ms/step - loss: 0.2224 - accuracy: 0.9196 - val_loss: 0.3324 - val_accuracy: 0.8828\n"
          ],
          "name": "stdout"
        }
      ]
    },
    {
      "cell_type": "markdown",
      "metadata": {
        "id": "WhyG0-sPHOAv"
      },
      "source": [
        "### 3.4. Display the Metrics"
      ]
    },
    {
      "cell_type": "markdown",
      "metadata": {
        "id": "1TFadfX_Oyg_"
      },
      "source": [
        "Finally, we display the metrics. We begin by displaying the model's accuracy and loss based on the test set."
      ]
    },
    {
      "cell_type": "code",
      "metadata": {
        "id": "vFoIAPdSYXqh",
        "outputId": "781d4844-3f2c-491e-c703-ba6f52458644",
        "colab": {
          "base_uri": "https://localhost:8080/"
        }
      },
      "source": [
        "test_loss, test_accuracy = model.evaluate(X_test, y_test)\n",
        "print('Test Accuracy:', test_accuracy)\n",
        "print('Test Loss:', test_loss)"
      ],
      "execution_count": 13,
      "outputs": [
        {
          "output_type": "stream",
          "text": [
            "313/313 [==============================] - 0s 1ms/step - loss: 0.3324 - accuracy: 0.8828\n",
            "Test Accuracy: 0.8827999830245972\n",
            "Test Loss: 0.3323984742164612\n"
          ],
          "name": "stdout"
        }
      ]
    },
    {
      "cell_type": "markdown",
      "metadata": {
        "id": "k3p2c0-RO2M8"
      },
      "source": [
        "Then, we save the metric values for each epoch to plot the loss and accuracy curves for our model."
      ]
    },
    {
      "cell_type": "code",
      "metadata": {
        "id": "8-OdhC_0KtUx"
      },
      "source": [
        "# Save the metrics.\n",
        "metrics = history.history"
      ],
      "execution_count": 14,
      "outputs": []
    },
    {
      "cell_type": "markdown",
      "metadata": {
        "id": "ZztnSHgjZPDN"
      },
      "source": [
        "Finally, once we have our metric history, we can plot the curves."
      ]
    },
    {
      "cell_type": "code",
      "metadata": {
        "id": "yfosMMiqHQB0"
      },
      "source": [
        "# Save the loss values.\n",
        "training_loss_list = metrics['loss']\n",
        "test_loss_list = metrics['val_loss']"
      ],
      "execution_count": 15,
      "outputs": []
    },
    {
      "cell_type": "code",
      "metadata": {
        "id": "HKAZlyOmHV6f",
        "outputId": "52e27a89-7f52-436c-be95-135200ba2737",
        "colab": {
          "base_uri": "https://localhost:8080/",
          "height": 295
        }
      },
      "source": [
        "# Plot the training and test loss.\n",
        "x = np.arange(0, num_epochs, 1)\n",
        "plt.title('Training and Test Loss')\n",
        "plt.xlabel('Epoch')\n",
        "plt.ylabel('Loss')\n",
        "plt.plot(x, training_loss_list, label='Training Loss')\n",
        "plt.plot(x, test_loss_list, label='Test Loss')\n",
        "plt.legend()\n",
        "plt.show()"
      ],
      "execution_count": 16,
      "outputs": [
        {
          "output_type": "display_data",
          "data": {
            "image/png": "[encoded data removed]",
            "text/plain": [
              "<Figure size 432x288 with 1 Axes>"
            ]
          },
          "metadata": {
            "tags": [],
            "needs_background": "light"
          }
        }
      ]
    },
    {
      "cell_type": "code",
      "metadata": {
        "id": "RwzIUzuuI0ZP"
      },
      "source": [
        "train_accuracy_list = metrics['accuracy']\n",
        "test_accuracy_list = metrics['val_accuracy']"
      ],
      "execution_count": 17,
      "outputs": []
    },
    {
      "cell_type": "code",
      "metadata": {
        "id": "kHj-j2HpI2Lb",
        "outputId": "ebc37d8f-4354-49e9-e262-9ab70198e2d6",
        "colab": {
          "base_uri": "https://localhost:8080/",
          "height": 295
        }
      },
      "source": [
        "plt.title('Training and Test Accuracy')\n",
        "plt.xlabel('Epoch')\n",
        "plt.ylabel('Accuracy')\n",
        "plt.plot(x, train_accuracy_list, label='Training Accuracy')\n",
        "plt.plot(x, test_accuracy_list, label='Test Accuracy')\n",
        "plt.legend()\n",
        "plt.show()"
      ],
      "execution_count": 18,
      "outputs": [
        {
          "output_type": "display_data",
          "data": {
            "image/png": "[encoded data removed]",
            "text/plain": [
              "<Figure size 432x288 with 1 Axes>"
            ]
          },
          "metadata": {
            "tags": [],
            "needs_background": "light"
          }
        }
      ]
    },
    {
      "cell_type": "markdown",
      "metadata": {
        "id": "x2BDwaUigDgC"
      },
      "source": [
        "## 4. Make a Prediction\n",
        "\n",
        "---\n",
        "\n"
      ]
    },
    {
      "cell_type": "markdown",
      "metadata": {
        "id": "vx34e_AWgLeE"
      },
      "source": [
        "Once our model is trained, we can use it to make predictions. To do this, we first use our test set to predict the classes."
      ]
    },
    {
      "cell_type": "code",
      "metadata": {
        "id": "SylCmq61gTnM"
      },
      "source": [
        "# Make predictions with the trained model.\n",
        "predictions = model.predict(X_test)"
      ],
      "execution_count": 19,
      "outputs": []
    },
    {
      "cell_type": "markdown",
      "metadata": {
        "id": "uMo9sEZpggPq"
      },
      "source": [
        "Finally, we can show a random test image with its corresponding prediction."
      ]
    },
    {
      "cell_type": "code",
      "metadata": {
        "id": "dDn-I6xNiYqy",
        "outputId": "5ab548c2-46ca-4469-9ccc-22150e5ef884",
        "colab": {
          "base_uri": "https://localhost:8080/",
          "height": 265
        }
      },
      "source": [
        "# Choose an index.\n",
        "index = 75\n",
        "\n",
        "# Show an image from the test set.\n",
        "plt.imshow(test_images[index])\n",
        "plt.show()"
      ],
      "execution_count": 20,
      "outputs": [
        {
          "output_type": "display_data",
          "data": {
            "image/png": "[encoded data removed]",
            "text/plain": [
              "<Figure size 432x288 with 1 Axes>"
            ]
          },
          "metadata": {
            "tags": [],
            "needs_background": "light"
          }
        }
      ]
    },
    {
      "cell_type": "code",
      "metadata": {
        "id": "ITg9K1criYq1",
        "outputId": "a2dcd959-83d5-47b1-afb1-166f7770dad9",
        "colab": {
          "base_uri": "https://localhost:8080/"
        }
      },
      "source": [
        "print(\"Prediction:\", class_names[np.argmax(predictions[index])])"
      ],
      "execution_count": 21,
      "outputs": [
        {
          "output_type": "stream",
          "text": [
            "Prediction: Dress\n"
          ],
          "name": "stdout"
        }
      ]
    }
  ]
}